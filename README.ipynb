{
 "cells": [
  {
   "cell_type": "markdown",
   "metadata": {},
   "source": [
    "# Installation\n",
    "## Introduction\n",
    "TODO: general stuff from the project\n",
    "jupyter nbconvert --execute --to markdown README.ipynb"
   ]
  },
  {
   "cell_type": "markdown",
   "metadata": {},
   "source": [
    "## Required models"
   ]
  },
  {
   "cell_type": "code",
   "execution_count": null,
   "metadata": {},
   "outputs": [],
   "source": [
    "#TODO: show required frame"
   ]
  },
  {
   "cell_type": "markdown",
   "metadata": {},
   "source": [
    "## Required hardware\n",
    "TODO: "
   ]
  },
  {
   "cell_type": "markdown",
   "metadata": {},
   "source": [
    "## Required packages"
   ]
  },
  {
   "cell_type": "code",
   "execution_count": null,
   "metadata": {},
   "outputs": [],
   "source": [
    "#TODO: python required packages + streaming + used tools"
   ]
  },
  {
   "cell_type": "markdown",
   "metadata": {},
   "source": [
    "## Usage\n",
    "### Calibration board "
   ]
  },
  {
   "cell_type": "code",
   "execution_count": null,
   "metadata": {},
   "outputs": [],
   "source": [
    "#TODO: generate two calibration boards\n",
    "#TODO: calibration with axes on image\n",
    "\n",
    "    # def _exportExamples(self, mtx, dist, rvecs, tvecs):\n",
    "    #     self.selectedFrame = cv2.imread(\"./out/_distorted.png\")\n",
    "    #     img_undist = cv2.undistort(self.selectedFrame, mtx, dist, None)\n",
    "\n",
    "    #     # print(rvecs)\n",
    "    #     # print(tvecs)\n",
    "    #     # return\n",
    "\n",
    "    #     cv2.imwrite(\"./out/_distorted.png\", self.selectedFrame)\n",
    "    #     cv2.imwrite(\"./out/_undistorted.png\", img_undist)\n",
    "\n",
    "    #     gray = cv2.cvtColor(self.selectedFrame, cv2.COLOR_BGR2GRAY)\n",
    "    #     # _aruco_dict = aruco.Dictionary_get(aruco.DICT_6X6_250)\n",
    "    #     parameters = aruco.DetectorParameters_create()\n",
    "    #     corners, ids, rejectedImgPoints = aruco.detectMarkers(gray, self._aruco_dict,\n",
    "    #                                                           parameters=parameters)\n",
    "\n",
    "    #     objPoints, imagepoints = aruco.getBoardObjectAndImagePoints(\n",
    "    #         self._charuco_board, corners, ids)\n",
    "\n",
    "    #     # SUB PIXEL DETECTION\n",
    "    #     criteria = (cv2.TERM_CRITERIA_EPS +\n",
    "    #                 cv2.TERM_CRITERIA_MAX_ITER, 100, 0.0001)\n",
    "    #     for corner in corners:\n",
    "    #         cv2.cornerSubPix(gray, corner, winSize=(\n",
    "    #             3, 3), zeroZone=(-1, -1), criteria=criteria)\n",
    "\n",
    "    #     print(\"1\")\n",
    "    #     print(len(corners))\n",
    "    #     print(\"2\")\n",
    "    #     print(corners)\n",
    "    #     print(\"3\")\n",
    "    #     print(len(ids))\n",
    "    #     print(\"4\")\n",
    "    #     print(objPoints)\n",
    "    #     print(\"5\")\n",
    "    #     print(imagepoints)\n",
    "    #     # return\n",
    "\n",
    "    #     # px=1251.4963\n",
    "    #     # py=858.8839\n",
    "    #     px = 1278.6255\n",
    "    #     py = 866.16364\n",
    "    #     Z = 0\n",
    "    #     Lcam = mtx.dot(np.hstack((cv2.Rodrigues(rvecs[0])[0], tvecs[0])))\n",
    "    #     X = np.linalg.inv(np.hstack((Lcam[:, 0:2], np.array(\n",
    "    #         [[-1*px], [-1*py], [-1]])))).dot((-Z*Lcam[:, 2]-Lcam[:, 3]))\n",
    "    #     print(X)\n",
    "    #     return\n",
    "\n",
    "    #     # px=1251.4963\n",
    "    #     # py=858.8839\n",
    "    #     # px=1278.6255\n",
    "    #     # py=866.16364\n",
    "    #     # 1251.4963     858.8839           0.185      0.055      0.       0.18571468 0.05308852 0.35872269\n",
    "    #     # 1278.6255     866.16364          0.19500001 0.055      0.       0.19525311 0.05365029 0.35786451\n",
    "\n",
    "    #     frame_markers = aruco.drawDetectedMarkers(\n",
    "    #         self.selectedFrame.copy(), corners, ids)\n",
    "    #     cv2.imwrite(\"./out/frame_markers.png\", frame_markers)\n",
    "\n",
    "    #     size_of_marker = 0.02  # side lenght of the marker in meter\n",
    "    #     length_of_axis = 0.1\n",
    "    #     rvecs, tvecs, _ = aruco.estimatePoseSingleMarkers(\n",
    "    #         corners, size_of_marker, mtx, dist)\n",
    "    #     # print(rvecs, tvecs)\n",
    "\n",
    "    #     imaxis = aruco.drawDetectedMarkers(\n",
    "    #         self.selectedFrame.copy(), corners, ids)\n",
    "\n",
    "    #     for i in range(len(tvecs)):\n",
    "    #         imaxis = aruco.drawAxis(\n",
    "    #             imaxis, mtx, dist, rvecs[i], tvecs[i], length_of_axis)\n",
    "\n",
    "    #     cv2.imwrite(\"./out/markers.png\", imaxis)\n",
    "\n",
    "    # def testWithAxes(self, mtx, dist, rvecs, tvecs):\n",
    "    #     img_undist = cv2.undistort(self.selectedFrame, mtx, dist, None)\n",
    "\n",
    "    #     cv2.imwrite(\"./02_out/_distorted.png\", self.selectedFrame)\n",
    "    #     cv2.imwrite(\"./02_out/_undistorted.png\", img_undist)\n",
    "\n",
    "    #     cv2.imwrite(\"./02_out/_distortedLaser.png\", self.segmentLaser(self.selectedFrame))\n",
    "    #     cv2.imwrite(\"./02_out/_undistortedLaser.png\", self.segmentLaser(img_undist))\n",
    "\n",
    "    #     gray = cv2.cvtColor(self.selectedFrame, cv2.COLOR_BGR2GRAY)\n",
    "    #     # aruco_dict = aruco.Dictionary_get(aruco.DICT_6X6_250)\n",
    "    #     parameters = aruco.DetectorParameters_create()\n",
    "    #     corners, ids, rejectedImgPoints = aruco.detectMarkers(gray, self._aruco_dict,\n",
    "    #                                                           parameters=parameters)\n",
    "    #     print(len(corners))\n",
    "    #     print(len(ids))\n",
    "    #     # SUB PIXEL DETECTION\n",
    "    #     criteria = (cv2.TERM_CRITERIA_EPS + cv2.TERM_CRITERIA_MAX_ITER, 100, 0.0001)\n",
    "    #     for corner in corners:\n",
    "    #         cv2.cornerSubPix(gray, corner, winSize=(3, 3), zeroZone=(-1, -1), criteria=criteria)\n",
    "\n",
    "    #     frame_markers = aruco.drawDetectedMarkers(self.selectedFrame.copy(), corners, ids)\n",
    "    #     cv2.imwrite(\"./02_out/frame_markers.png\", frame_markers)\n",
    "\n",
    "    #     size_of_marker = 0.02  # side lenght of the marker in meter\n",
    "    #     length_of_axis = 0.1\n",
    "    #     rvecs, tvecs, _ = aruco.estimatePoseSingleMarkers(corners, size_of_marker, mtx, dist)\n",
    "    #     print(rvecs, tvecs)\n",
    "\n",
    "    #     imaxis = aruco.drawDetectedMarkers(self.selectedFrame.copy(), corners, ids)\n",
    "\n",
    "    #     for i in range(len(tvecs)):\n",
    "    #         imaxis = aruco.drawAxis(imaxis, mtx, dist, rvecs[i], tvecs[i], length_of_axis)\n",
    "\n",
    "    #     cv2.imwrite(\"./02_out/markers.png\", imaxis)\n"
   ]
  },
  {
   "cell_type": "markdown",
   "metadata": {},
   "source": [
    "## Configs\n",
    "TODO: describe the configs with examples"
   ]
  },
  {
   "cell_type": "code",
   "execution_count": null,
   "metadata": {},
   "outputs": [],
   "source": [
    "#TODO: describe the configs with examples"
   ]
  },
  {
   "cell_type": "markdown",
   "metadata": {},
   "source": [
    "## Example run on a test video sequence"
   ]
  },
  {
   "cell_type": "code",
   "execution_count": null,
   "metadata": {},
   "outputs": [],
   "source": [
    "#TODO: Example run on a test video sequence"
   ]
  },
  {
   "cell_type": "markdown",
   "metadata": {},
   "source": [
    "# Code analysis\n",
    "\n",
    "## Metrics\n",
    "Source:\n",
    "\n",
    " - https://pypi.org/project/radon/\n",
    " - https://radon.readthedocs.io/en/latest/commandline.html"
   ]
  },
  {
   "cell_type": "code",
   "execution_count": 8,
   "metadata": {},
   "outputs": [],
   "source": [
    "!radon raw source > ./docs/raw.txt\n",
    "!radon cc source > ./docs/cc.txt\n",
    "!radon mi source > ./docs/mi.txt"
   ]
  },
  {
   "cell_type": "code",
   "execution_count": null,
   "metadata": {},
   "outputs": [],
   "source": [
    "# import cProfile\n",
    "# cProfile.run('foo()')\n",
    "#TODO: do the actual profiling"
   ]
  },
  {
   "cell_type": "markdown",
   "metadata": {},
   "source": [
    "## Architecture\n",
    "TODO: add architecture"
   ]
  },
  {
   "cell_type": "markdown",
   "metadata": {},
   "source": [
    "# Figures"
   ]
  },
  {
   "cell_type": "code",
   "execution_count": null,
   "metadata": {},
   "outputs": [],
   "source": [
    "# TODO: sheered plane on test image\n",
    "# TODO: calibration plane and laser plane intersection\n",
    "# TODO: laser degree calculation and figure\n",
    "# TODO: demonstrational image with oriignal image + segmented line + 3d points gathered\n",
    "# TODO: module structure\n",
    "# TODO: cube example from mesh.py\n",
    "\n",
    "    # def testPointClouds(self):\n",
    "    #     points = []\n",
    "\n",
    "    #     for i in range(11):\n",
    "    #         for j in range(11):\n",
    "    #             points.append([i/10.0, j/10.0, 0])\n",
    "\n",
    "    #     for i in range(11):\n",
    "    #         for j in range(11):\n",
    "    #             points.append([i/10.0, j/10.0, 1])\n",
    "\n",
    "    #     for i in range(11):\n",
    "    #         for j in range(11):\n",
    "    #             points.append([i/10.0, 0, j/10.0])\n",
    "\n",
    "    #     for i in range(11):\n",
    "    #         for j in range(11):\n",
    "    #             points.append([0, i/10.0, j/10.0])\n",
    "\n",
    "    #     for i in range(11):\n",
    "    #         for j in range(11):\n",
    "    #             points.append([i/10.0, 1, j/10.0])\n",
    "\n",
    "    #     for i in range(11):\n",
    "    #         for j in range(11):\n",
    "    #             points.append([1, i/10.0, j/10.0])\n",
    "\n",
    "    #     self.exportToPCD(\"./out/test1.pcd\", points)\n",
    "    #     self.exportToSTL(\"./out/test1.stl\", points)\n"
   ]
  },
  {
   "cell_type": "markdown",
   "metadata": {},
   "source": [
    "# Tests"
   ]
  },
  {
   "cell_type": "code",
   "execution_count": null,
   "metadata": {},
   "outputs": [],
   "source": [
    "#TODO: Test in dark\n",
    "#TODO: Test in light\n",
    "#TODO: Test with horizontal line\n",
    "#TODO: Test with vertical line\n"
   ]
  }
 ],
 "metadata": {
  "kernelspec": {
   "display_name": "Python 3.9.2 64-bit",
   "language": "python",
   "name": "python3"
  },
  "language_info": {
   "codemirror_mode": {
    "name": "ipython",
    "version": 3
   },
   "file_extension": ".py",
   "mimetype": "text/x-python",
   "name": "python",
   "nbconvert_exporter": "python",
   "pygments_lexer": "ipython3",
   "version": "3.9.2"
  },
  "orig_nbformat": 4,
  "vscode": {
   "interpreter": {
    "hash": "e7370f93d1d0cde622a1f8e1c04877d8463912d04d973331ad4851f04de6915a"
   }
  }
 },
 "nbformat": 4,
 "nbformat_minor": 2
}
